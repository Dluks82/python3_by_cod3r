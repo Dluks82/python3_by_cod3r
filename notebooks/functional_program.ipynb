{
 "cells": [
  {
   "cell_type": "code",
   "execution_count": 5,
   "metadata": {},
   "outputs": [
    {
     "data": {
      "text/plain": [
       "{'Diogo': 'Oliveira', 'Ana': 'Pereira', 'Diana': 'Moraes'}"
      ]
     },
     "execution_count": 5,
     "metadata": {},
     "output_type": "execute_result"
    }
   ],
   "source": [
    "name = ['Diogo', 'Ana', 'Diana']\n",
    "surname = ['Oliveira', 'Pereira', 'Moraes']\n",
    "together = zip(name, surname)\n",
    "\n",
    "together\n",
    "list(together)\n",
    "\n",
    "together = zip(name, surname)\n",
    "tuple(together)\n",
    "\n",
    "together = zip(name, surname)\n",
    "dict(together)"
   ]
  }
 ],
 "metadata": {
  "kernelspec": {
   "display_name": "Python 3",
   "language": "python",
   "name": "python3"
  },
  "language_info": {
   "codemirror_mode": {
    "name": "ipython",
    "version": 3
   },
   "file_extension": ".py",
   "mimetype": "text/x-python",
   "name": "python",
   "nbconvert_exporter": "python",
   "pygments_lexer": "ipython3",
   "version": "3.10.9"
  },
  "orig_nbformat": 4
 },
 "nbformat": 4,
 "nbformat_minor": 2
}
